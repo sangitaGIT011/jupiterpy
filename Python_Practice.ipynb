{
  "cells": [
    {
      "cell_type": "markdown",
      "metadata": {
        "id": "view-in-github",
        "colab_type": "text"
      },
      "source": [
        "<a href=\"https://colab.research.google.com/github/sangitaGIT011/jupiterpy/blob/main/Python_Practice.ipynb\" target=\"_parent\"><img src=\"https://colab.research.google.com/assets/colab-badge.svg\" alt=\"Open In Colab\"/></a>"
      ]
    },
    {
      "cell_type": "code",
      "source": [
        "#Write a python Program using a \"FOR LOOP\" to print numbers  from 1 to 5\n",
        "\n",
        "\n",
        "for i in range (1,5):\n",
        "  print(i)"
      ],
      "metadata": {
        "id": "iABqfbVyUBhZ"
      },
      "execution_count": null,
      "outputs": []
    },
    {
      "cell_type": "code",
      "source": [
        "#Write a program to display all elements of the List [\"apple\".\"banana\",\"mango\"]\n",
        "Ulist= [\"apple\",\"banana\",\"mango\"]\n",
        "for i in Ulist:\n",
        "  print(i)\n",
        "print(Ulist[::-2])"
      ],
      "metadata": {
        "id": "iISJp2cQWEah",
        "colab": {
          "base_uri": "https://localhost:8080/"
        },
        "outputId": "0de1619b-1589-402b-de32-e1a2f89ef037"
      },
      "execution_count": 101,
      "outputs": [
        {
          "output_type": "stream",
          "name": "stdout",
          "text": [
            "apple\n",
            "banana\n",
            "mango\n",
            "['mango', 'apple']\n"
          ]
        }
      ]
    },
    {
      "cell_type": "code",
      "source": [
        "#Check if a number is positive\n",
        "\n",
        "num=int(input(\"enter Number :\"))\n",
        "\n",
        "if num>0:\n",
        "  print(\"Number is Positive\")\n",
        "elif num<0:\n",
        "  print(\"Number is Negative\")\n",
        "else :\n",
        "  print(\"Number is Zero\")"
      ],
      "metadata": {
        "id": "Q7NiW_KfWuBh"
      },
      "execution_count": null,
      "outputs": []
    },
    {
      "cell_type": "code",
      "source": [
        "#chekc if a person passed or fail\n",
        "\n",
        "\n",
        "marks=int(input(\"enter Marks :\"))\n",
        "if marks>=40:\n",
        "  print(\"Student is Pass\")\n",
        "else:\n",
        "  print(\"Student is Fail\")"
      ],
      "metadata": {
        "id": "D6BVtniLgmTS"
      },
      "execution_count": null,
      "outputs": []
    },
    {
      "cell_type": "code",
      "source": [
        "#Check if a string empty\n",
        "\n",
        "Ustr=input(\"Enter String :\")\n",
        "\n",
        "if Ustr==\"\":\n",
        "  print(\"String is Empty\")\n",
        "else:\n",
        "  print(\"String is Not Empty\")"
      ],
      "metadata": {
        "id": "9OmICQxYXynx"
      },
      "execution_count": null,
      "outputs": []
    },
    {
      "cell_type": "code",
      "source": [
        "#Compare two number\n",
        "\n",
        "num1=int(input(\"Enter Number 1 :\"))\n",
        "num2=int(input(\"Enter Number 2 :\"))\n",
        "\n",
        "if num1>num2:\n",
        "  print(\"Number 1 is Greater\")\n",
        "elif num1<num2:\n",
        "  print(\"Number 2 is Greater\")\n",
        "else:\n",
        "  print(\"Number 1 and Number 2 are Equal\")\n"
      ],
      "metadata": {
        "id": "WXvWpP7wf9WJ"
      },
      "execution_count": null,
      "outputs": []
    },
    {
      "cell_type": "code",
      "source": [
        "#Voting Eligiblity\n",
        "\n",
        "Age=int(input(\"Enter Age :\"))\n",
        "\n",
        "if Age>18:\n",
        "  print(\"Person is Eligible for Voting\")\n",
        "else:\n",
        "  print(\"Person is not Eligible for Voting\")"
      ],
      "metadata": {
        "id": "lap5wy_AdJ9R"
      },
      "execution_count": null,
      "outputs": []
    },
    {
      "cell_type": "code",
      "source": [
        "#Chekc if a numer is even\n",
        "\n",
        "num=int(input(\"Enter Number :\"))\n",
        "\n",
        "if num%2==0:\n",
        "  print(\"Number is Even\")\n",
        "else:\n",
        "  print(\"Number is Odd\")\n"
      ],
      "metadata": {
        "id": "EbwOntw-YQEy"
      },
      "execution_count": null,
      "outputs": []
    },
    {
      "cell_type": "code",
      "source": [
        "#Check if temperature is hot\n",
        "\n",
        "temp=float(input(\"enter temperature :\"))\n",
        "if temp>30:\n",
        "  print(\"Temperature is hot\")\n",
        "else:\n",
        "  print(\"Temperature is normal\")\n"
      ],
      "metadata": {
        "id": "cdqsYtjKY0fx"
      },
      "execution_count": null,
      "outputs": []
    },
    {
      "cell_type": "code",
      "source": [
        "#student grade check\n",
        "\n",
        "marks=int(input(\"enter Marks :\"))\n",
        "\n",
        "if marks>=95:\n",
        "  print(\"Student Grade is A\")\n",
        "elif marks>=75:\n",
        "  print(\"Student Grade is B\")\n",
        "elif marks>=50:\n",
        "  print(\"Student Grade is C\")\n",
        "else:\n",
        "  print(\"Student Grade is D\")"
      ],
      "metadata": {
        "id": "Cy0miKdbihp7"
      },
      "execution_count": null,
      "outputs": []
    },
    {
      "cell_type": "code",
      "source": [
        "#Write a program to print square  of number from 1 to 5\n",
        "\n",
        "for i in range (1,6):\n",
        "  print(i**2)\n"
      ],
      "metadata": {
        "id": "dtoL10SAmHtB"
      },
      "execution_count": null,
      "outputs": []
    },
    {
      "cell_type": "code",
      "source": [
        "#Write a program tro display  keys and values of a dictionay using a for loop\n",
        "\n",
        "udict={'Subjectname':\"Python\",'Code':5,'Author':\"New York\",'Rate':20.3} # name key or Field,John Value\n",
        "#udict1={'Subjectname':\"DSA\",'Code':6,'Author':\"New York\",'Rate':203} # name key or Field,John Value\n",
        "#for i in [\"Subjectname\",\"Rate\"]:\n",
        "for i in udict:\n",
        "  print(i,\":\",udict[i])\n",
        ""
      ],
      "metadata": {
        "colab": {
          "base_uri": "https://localhost:8080/"
        },
        "id": "9U0Jon9PvU8p",
        "outputId": "1c68963b-6242-492b-8b2c-d25a24b74b9c"
      },
      "execution_count": 127,
      "outputs": [
        {
          "output_type": "stream",
          "name": "stdout",
          "text": [
            "Subjectname : Python\n",
            "Code : 5\n",
            "Author : New York\n",
            "Rate : 20.3\n"
          ]
        }
      ]
    },
    {
      "cell_type": "code",
      "source": [
        "#Write a program tro display  keys and values of a Tuple using a for loop\n",
        "utuple = (1, 1, 2, 3,4)\n",
        "#utuple = ('Q','q', 'B','B',5)\n",
        "for i in utuple:\n",
        "    print(i,\":\",utuple[i])"
      ],
      "metadata": {
        "id": "YGMnTp4t4neZ"
      },
      "execution_count": null,
      "outputs": []
    },
    {
      "cell_type": "code",
      "source": [
        "students = {}\n",
        "students['student1'] = {'name': 'Drake', 'age': 20, 'grade': 'A'}\n",
        "students['student2'] = {'name': 'Travis', 'age': 22, 'grade': 'B'}\n",
        "students['student3'] = {'name': 'Charlie', 'age': 21, 'grade': 'A+'}\n",
        "\n",
        "print(\"Student Details:\")\n",
        "print(students.s)\n",
        "print(students)"
      ],
      "metadata": {
        "id": "fgcYqpEeJutu",
        "outputId": "3b1a1401-b319-4038-b6f2-4dbbecbec31f",
        "colab": {
          "base_uri": "https://localhost:8080/"
        }
      },
      "execution_count": 118,
      "outputs": [
        {
          "output_type": "stream",
          "name": "stdout",
          "text": [
            "Student Details:\n",
            "{'student1': {'name': 'Drake', 'age': 20, 'grade': 'A'}, 'student2': {'name': 'Travis', 'age': 22, 'grade': 'B'}, 'student3': {'name': 'Charlie', 'age': 21, 'grade': 'A+'}}\n"
          ]
        }
      ]
    },
    {
      "cell_type": "code",
      "source": [
        "#Check if a word contains a letter\n",
        "\n",
        "Ustr=input(\"Enter String :\")\n",
        "Uletter=input(\"Enter Letter :\")\n",
        "\n",
        "if Uletter in Ustr:\n",
        "  print(\"Letter \"+Uletter+\" is in String\")\n",
        "else:\n",
        "  print(\"Letter \"+Uletter+\" is not in String\")"
      ],
      "metadata": {
        "id": "5iJWHAziZ2qh"
      },
      "execution_count": null,
      "outputs": []
    },
    {
      "cell_type": "code",
      "source": [
        "#Write a program  that  print each letter of the string 'Python' using for loop\n",
        "\n",
        "Ustring = 'Python'\n",
        "for i in Ustring:\n",
        "  print(i)"
      ],
      "metadata": {
        "id": "ZstdFBIYVjpy"
      },
      "execution_count": null,
      "outputs": []
    }
  ],
  "metadata": {
    "colab": {
      "name": "Welcome To Colab",
      "toc_visible": true,
      "provenance": [],
      "include_colab_link": true
    },
    "kernelspec": {
      "display_name": "Python 3",
      "name": "python3"
    }
  },
  "nbformat": 4,
  "nbformat_minor": 0
}