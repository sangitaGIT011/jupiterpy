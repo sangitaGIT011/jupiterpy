{
  "metadata": {
    "kernelspec": {
      "name": "xpython",
      "display_name": "Python 3.13 (XPython)",
      "language": "python"
    },
    "language_info": {
      "file_extension": ".py",
      "mimetype": "text/x-python",
      "name": "python",
      "version": "3.13.1"
    }
  },
  "nbformat_minor": 5,
  "nbformat": 4,
  "cells": [
    {
      "id": "b1a5162b-52b7-43fc-b0df-577fc657b9d4",
      "cell_type": "code",
      "source": "\nc = 'p'\n\nprint(\"The ASCII value of '\" + c + \"' is\", ord(c))\n",
      "metadata": {
        "trusted": true
      },
      "outputs": [
        {
          "name": "stdout",
          "output_type": "stream",
          "text": "The ASCII value of 'p' is 112\n"
        }
      ],
      "execution_count": 1
    },
    {
      "id": "e7e7608d-ccf2-4286-b637-cac99399f9b8",
      "cell_type": "code",
      "source": "num = 16\n\nif num < 0:\n   print(\"Enter a positive number\")\nelse:\n   sum = 0\n   # use while loop to iterate until zero\n   while(num > 0):\n       sum += num\n       num -= 1\n   print(\"The sum is\", sum)",
      "metadata": {
        "trusted": true
      },
      "outputs": [
        {
          "name": "stdout",
          "output_type": "stream",
          "text": "The sum is 136\n"
        }
      ],
      "execution_count": 2
    },
    {
      "id": "795b0eef-b0ff-4438-87e1-5136e9972acf",
      "cell_type": "code",
      "source": "#x = 5\n#y = 10\n\n# To take inputs from the user\nx = input('Enter value of x: ')\ny = input('Enter value of y: ')\n\n# create a temporary variable and swap the values\ntemp = x\nx = y\ny = temp\n\nprint('The value of x after swapping: {}'.format(x))\nprint('The value of y after swapping: {}'.format(y))\n\n\n#without Temp Variable\n\nx = 5\ny = 10\n\nx, y = y, x\nprint(\"The Value of Swapped x =\", x)\nprint(\"The Value of Swapped y =\", y)",
      "metadata": {
        "trusted": true
      },
      "outputs": [
        {
          "output_type": "stream",
          "name": "stdin",
          "text": "Enter value of x:  5\nEnter value of y:  5\n"
        },
        {
          "name": "stdout",
          "output_type": "stream",
          "text": "The value of x after swapping: 5\nThe value of y after swapping: 5\nThe Value of Swapped x = 10\nThe Value of Swapped y = 5\n"
        }
      ],
      "execution_count": 4
    },
    {
      "id": "c495648d-5f46-4ec5-9d2b-3310b64ed848",
      "cell_type": "code",
      "source": "",
      "metadata": {
        "trusted": true
      },
      "outputs": [],
      "execution_count": null
    }
  ]
}