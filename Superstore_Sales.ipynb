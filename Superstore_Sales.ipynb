{
  "nbformat": 4,
  "nbformat_minor": 0,
  "metadata": {
    "colab": {
      "provenance": [],
      "authorship_tag": "ABX9TyP94oU1V8GAyTM6qt5pcP4V",
      "include_colab_link": true
    },
    "kernelspec": {
      "name": "python3",
      "display_name": "Python 3"
    },
    "language_info": {
      "name": "python"
    }
  },
  "cells": [
    {
      "cell_type": "markdown",
      "metadata": {
        "id": "view-in-github",
        "colab_type": "text"
      },
      "source": [
        "<a href=\"https://colab.research.google.com/github/sangitaGIT011/jupiterpy/blob/main/Superstore_Sales.ipynb\" target=\"_parent\"><img src=\"https://colab.research.google.com/assets/colab-badge.svg\" alt=\"Open In Colab\"/></a>"
      ]
    },
    {
      "cell_type": "code",
      "execution_count": null,
      "metadata": {
        "id": "yi1GiDJg1pUS"
      },
      "outputs": [],
      "source": [
        "#1. Import Libraries\n",
        "import pandas as pd\n",
        "import matplotlib.pyplot as plt\n",
        "import seaborn as sns\n",
        "\n",
        "## Corrected raw URL\n",
        "url = \"https://raw.githubusercontent.com/sangitaGIT011/jupiterpy/main/Sample%20-%20Superstore.csv\"\n",
        "\n",
        "## Load the dataset\n",
        "data = pd.read_csv(url, encoding='ISO-8859-1')  # Added encoding for compatibility\n",
        "\n",
        "## Preview the data\n",
        "#print(data.head())\n",
        "\n",
        "\n",
        "## Check for missing values\n",
        "#print(data.isnull().sum())\n",
        "\n",
        "# Fill or drop missing values\n",
        "data.fillna(0, inplace=True)\n",
        "\n",
        "##Convert date column to datetime\n",
        "data['Order Date'] = pd.to_datetime(data['Order Date'])\n",
        "\n",
        "\n",
        "##Check for missing values\n",
        "#print(data.isnull().sum())\n",
        "\n",
        "# Fill or drop missing values\n",
        "data.fillna(0, inplace=True)\n",
        "\n",
        "##Convert date column to datetime\n",
        "data['Order Date'] = pd.to_datetime(data['Order Date'])\n",
        "\n",
        "\n",
        "## Extract month and year\n",
        "data['Month'] = data['Order Date'].dt.to_period('M')\n",
        "\n",
        "## Group by month\n",
        "monthly_sales = data.groupby('Month')['Sales'].sum()\n",
        "\n",
        "# Plot the trend\n",
        "plt.figure(figsize=(10, 6))\n",
        "monthly_sales.plot(kind='line', marker='o')\n",
        "plt.title('Monthly Sales Trend')\n",
        "plt.xlabel('Month')\n",
        "plt.ylabel('Sales')\n",
        "plt.grid()\n",
        "plt.show()\n",
        "\n",
        "\n",
        "\n"
      ]
    }
  ]
}