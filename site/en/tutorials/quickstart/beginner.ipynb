{
  "cells": [
    {
      "cell_type": "code",
      "source": [
        "# Step 1: Import required libraries\n",
        "import pandas as pd\n",
        "import seaborn as sns\n",
        "from sklearn.model_selection import train_test_split\n",
        "from sklearn.linear_model import LogisticRegression\n",
        "from sklearn.preprocessing import LabelEncoder, MinMaxScaler\n",
        "from sklearn.metrics import accuracy_score\n",
        "\n",
        "# Step 2: Load the Titanic dataset\n",
        "df = sns.load_dataset('titanic')\n",
        "\n",
        "# Step 3: Drop unnecessary or mostly-empty columns\n",
        "df = df.drop(columns=['deck', 'embark_town', 'alive'])\n",
        "\n",
        "# Step 4: Handle missing values\n",
        "df['age'] = df['age'].fillna(df['age'].mean())   # ✅ Fix: no inplace=True\n",
        "df = df.dropna(subset=['embarked'])              # Drop rows where 'embarked' is missing\n",
        "df = df.dropna()                                 # Drop any remaining missing data\n",
        "\n",
        "# Step 5: Convert categorical columns to numeric using LabelEncoder\n",
        "label_encoder = LabelEncoder()\n",
        "for col in df.columns:\n",
        "    if df[col].dtype == 'object' or str(df[col].dtype) == 'category':\n",
        "        df[col] = label_encoder.fit_transform(df[col].astype(str))  # ✅ Fix: convert to str\n",
        "\n",
        "# Step 6: Normalize numerical columns using MinMaxScaler\n",
        "scaler = MinMaxScaler()\n",
        "numeric_cols = df.select_dtypes(include=['int64', 'float64']).columns\n",
        "df[numeric_cols] = scaler.fit_transform(df[numeric_cols])\n",
        "\n",
        "# Step 7: Split the data into features (X) and target (y)\n",
        "X = df.drop('survived', axis=1)  # Features\n",
        "y = df['survived']               # Target\n",
        "\n",
        "# Step 8: Train-test split\n",
        "X_train, X_test, y_train, y_test = train_test_split(X, y, test_size=0.2, random_state=42)\n",
        "\n",
        "# Step 9: Train a Logistic Regression model\n",
        "model = LogisticRegression()\n",
        "model.fit(X_train, y_train)\n",
        "\n",
        "# Step 10: Predict and evaluate the model\n",
        "y_pred = model.predict(X_test)\n",
        "accuracy = accuracy_score(y_test, y_pred)\n",
        "\n",
        "print(\"\\n✅ Model Accuracy: {:.2f}%\".format(accuracy * 100))\n"
      ],
      "metadata": {
        "colab": {
          "base_uri": "https://localhost:8080/"
        },
        "id": "LqRX3_TsX6g4",
        "outputId": "7c346f20-13b6-4f4f-beac-b883062f381e"
      },
      "execution_count": 1,
      "outputs": [
        {
          "output_type": "stream",
          "name": "stdout",
          "text": [
            "\n",
            "✅ Model Accuracy: 80.34%\n"
          ]
        }
      ]
    },
    {
      "cell_type": "code",
      "source": [
        "# Step 1: Import necessary libraries\n",
        "import pandas as pd\n",
        "import seaborn as sns\n",
        "from sklearn.model_selection import train_test_split\n",
        "from sklearn.preprocessing import LabelEncoder, MinMaxScaler\n",
        "from sklearn.tree import DecisionTreeClassifier, plot_tree\n",
        "from sklearn.metrics import accuracy_score\n",
        "import matplotlib.pyplot as plt\n",
        "\n",
        "# Step 2: Load dataset\n",
        "df = sns.load_dataset('titanic')\n",
        "\n",
        "# Step 3: Drop unnecessary or mostly empty columns\n",
        "df = df.drop(columns=['deck', 'embark_town', 'alive'])\n",
        "\n",
        "# Step 4: Handle missing values\n",
        "df['age'] = df['age'].fillna(df['age'].mean())\n",
        "df = df.dropna(subset=['embarked'])\n",
        "df = df.dropna()\n",
        "\n",
        "# Step 5: Encode categorical variables\n",
        "label_encoder = LabelEncoder()\n",
        "for col in df.columns:\n",
        "    if df[col].dtype == 'object' or str(df[col].dtype) == 'category':\n",
        "        df[col] = label_encoder.fit_transform(df[col].astype(str))\n",
        "\n",
        "# Step 6: Normalize numerical columns\n",
        "scaler = MinMaxScaler()\n",
        "numeric_cols = df.select_dtypes(include=['int64', 'float64']).columns\n",
        "df[numeric_cols] = scaler.fit_transform(df[numeric_cols])\n",
        "\n",
        "# Step 7: Split into features and target\n",
        "X = df.drop('survived', axis=1)\n",
        "y = df['survived']\n",
        "\n",
        "# Step 8: Train-test split\n",
        "X_train, X_test, y_train, y_test = train_test_split(X, y, test_size=0.2, random_state=42)\n",
        "\n",
        "# Step 9: Train Decision Tree Classifier\n",
        "tree_model = DecisionTreeClassifier(max_depth=4, random_state=42)  # Limit depth for clear visualization\n",
        "tree_model.fit(X_train, y_train)\n",
        "\n",
        "# Step 10: Evaluate model\n",
        "y_pred = tree_model.predict(X_test)\n",
        "accuracy = accuracy_score(y_test, y_pred)\n",
        "print(f\"\\n Decision Tree Accuracy: {accuracy:.2f}\")\n",
        "\n",
        "## Step 11: Visualize the tree\n",
        "#plt.figure(figsize=(20, 10))\n",
        "#plot_tree(tree_model, feature_names=X.columns, class_names=['Not Survived', 'Survived'],\n",
        " #         filled=True, rounded=True, fontsize=12)\n",
        "#plt.title(\"Decision Tree for Titanic Survival\")\n",
        "#plt.show()\n",
        "\n",
        "# Step 12: Predict on a new sample (e.g. hypothetical passenger)\n",
        "# NOTE: Input values must match the order and scaling of your features\n",
        "# Example: [pclass, sex, age, sibsp, parch, fare, embarked, class, who, adult_male, alone]\n",
        "# We'll use the first row from the training set as an example of a \"new passenger\"\n",
        "# Fix: Create a new DataFrame with correct feature names\n",
        "sample = pd.DataFrame([X.iloc[0].values], columns=X.columns)\n",
        "prediction = tree_model.predict(sample)#\n",
        "\n",
        "print(\"\\n Prediction for new sample:\", \"Survived\" if prediction[0] == 1 else \"Not Survived\")\n",
        "\n"
      ],
      "metadata": {
        "id": "g1mAZYFWYc6u",
        "outputId": "50f4eabc-2f5f-4765-93ca-b526d3272aae",
        "colab": {
          "base_uri": "https://localhost:8080/"
        }
      },
      "execution_count": 16,
      "outputs": [
        {
          "output_type": "stream",
          "name": "stdout",
          "text": [
            "\n",
            " Decision Tree Accuracy: 0.81\n",
            "\n",
            " Prediction for new sample: Not Survived\n"
          ]
        }
      ]
    }
  ],
  "metadata": {
    "colab": {
      "name": "beginner.ipynb",
      "toc_visible": true,
      "provenance": []
    },
    "kernelspec": {
      "display_name": "Python 3",
      "name": "python3"
    }
  },
  "nbformat": 4,
  "nbformat_minor": 0
}