{
  "cells": [
    {
      "cell_type": "markdown",
      "metadata": {
        "id": "view-in-github",
        "colab_type": "text"
      },
      "source": [
        "<a href=\"https://colab.research.google.com/github/sangitaGIT011/jupiterpy/blob/main/Welcome_To_Colab.ipynb\" target=\"_parent\"><img src=\"https://colab.research.google.com/assets/colab-badge.svg\" alt=\"Open In Colab\"/></a>"
      ]
    },
    {
      "cell_type": "code",
      "source": [
        "#Write a python Program using a \"FOR LOOP\" to print numbers  from 1 to 5\n",
        "\n",
        "\n",
        "for i in range (1,5):\n",
        "  print(i)"
      ],
      "metadata": {
        "id": "iABqfbVyUBhZ"
      },
      "execution_count": null,
      "outputs": []
    },
    {
      "cell_type": "code",
      "source": [
        "#Write a program to display all elements of the List [\"apple\".\"banana\",\"mango\"]\n",
        "Ulist= [\"apple\",\"banana\",\"mango\"]\n",
        "for i in Ulist:\n",
        "  print(i)"
      ],
      "metadata": {
        "id": "iISJp2cQWEah"
      },
      "execution_count": null,
      "outputs": []
    },
    {
      "cell_type": "code",
      "source": [
        "#Check if a number is positive\n",
        "\n",
        "num=int(input(\"enter Number :\"))\n",
        "\n",
        "if num>0:\n",
        "  print(\"Number is Positive\")\n",
        "elif num<0:\n",
        "  print(\"Number is Negative\")\n",
        "else :\n",
        "  print(\"Number is Zero\")"
      ],
      "metadata": {
        "id": "Q7NiW_KfWuBh"
      },
      "execution_count": null,
      "outputs": []
    },
    {
      "cell_type": "code",
      "source": [
        "#Write a program  that  print each letter of the string 'Python' using for loop\n",
        "\n",
        "Ustring = 'Python'\n",
        "for i in Ustring:\n",
        "  print(i)"
      ],
      "metadata": {
        "id": "ZstdFBIYVjpy"
      },
      "execution_count": null,
      "outputs": []
    }
  ],
  "metadata": {
    "colab": {
      "name": "Welcome To Colab",
      "toc_visible": true,
      "provenance": [],
      "include_colab_link": true
    },
    "kernelspec": {
      "display_name": "Python 3",
      "name": "python3"
    }
  },
  "nbformat": 4,
  "nbformat_minor": 0
}